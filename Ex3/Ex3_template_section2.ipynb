{
 "cells": [
  {
   "cell_type": "markdown",
   "metadata": {},
   "source": [
    "# Import packages"
   ]
  },
  {
   "cell_type": "code",
   "execution_count": null,
   "metadata": {},
   "outputs": [],
   "source": [
    "import numpy as np\n",
    "import pandas as pd\n",
    "import operator\n",
    "import matplotlib.pyplot as plt\n",
    "from matplotlib.colors import ListedColormap\n",
    "from sklearn.model_selection import train_test_split, KFold\n",
    "from sklearn.metrics import mean_squared_error\n",
    "from sklearn.datasets import load_boston\n",
    "from sklearn.preprocessing import PolynomialFeatures\n",
    "from sklearn.linear_model import Ridge"
   ]
  },
  {
   "cell_type": "markdown",
   "metadata": {},
   "source": [
    "# Load Boston Housing dataset, display target prices with respect to each feature"
   ]
  },
  {
   "cell_type": "code",
   "execution_count": null,
   "metadata": {},
   "outputs": [],
   "source": [
    "### Load Boston dataset (store the features in a matrix X, and the target prices in a vector Y):\n",
    "boston = ...\n",
    "X = ...\n",
    "Y = ...\n",
    "# Display scatterplots of target prices with respect to each of the 13 features:\n",
    "colors = ['cornflowerblue',\n",
    "          'tab:orange',\n",
    "          'tab:green',\n",
    "          'r',\n",
    "          'tab:purple',\n",
    "          'tab:brown',\n",
    "          'tab:pink',\n",
    "          'b',\n",
    "          'tab:olive',\n",
    "          'tab:cyan',\n",
    "          'lightcoral',\n",
    "          'chocolate',\n",
    "          'springgreen']\n",
    "for col in range(X.shape[1]):\n",
    "    plt.figure(1, figsize=(24, 15))\n",
    "    if col < X.shape[1] - 1:\n",
    "        plot_idx = col+1\n",
    "    else:\n",
    "        plot_idx = 14\n",
    "    plt.subplot(5, 3, plot_idx)\n",
    "    plt.scatter(..., ..., marker='o', c=...)\n",
    "    plt.xlabel(boston.feature_names[col])\n",
    "    plt.ylabel('Target price')\n",
    "plt.suptitle(\"Target prices with respect to each of the 13 features\")\n",
    "plt.show()"
   ]
  },
  {
   "cell_type": "markdown",
   "metadata": {},
   "source": [
    "# Finish implementing model selection of a Ridge model on a list of hyper-parameters instances with KFold cross-validation"
   ]
  },
  {
   "cell_type": "code",
   "execution_count": null,
   "metadata": {},
   "outputs": [],
   "source": [
    "### Split+shuffle X and Y into k=num_folds different folds:\n",
    "def KFold_split(X, Y, num_folds, seed):\n",
    "    KFold_splitter = KFold(n_splits=num_folds, shuffle=True, random_state=seed)\n",
    "    X_train_folds = []\n",
    "    X_val_folds = []\n",
    "    Y_train_folds = []\n",
    "    Y_val_folds = []\n",
    "    for (kth_fold_train_idxs, kth_fold_val_idxs) in KFold_splitter.split(X, Y):\n",
    "        X_train_folds.append(X[kth_fold_train_idxs])\n",
    "        X_val_folds.append(...)\n",
    "        Y_train_folds.append(...)\n",
    "        Y_val_folds.append(...)\n",
    "    return X_train_folds, X_val_folds, Y_train_folds, Y_val_folds"
   ]
  },
  {
   "cell_type": "code",
   "execution_count": null,
   "metadata": {},
   "outputs": [],
   "source": [
    "### Select a Ridge model on a list of hyper-parameters instances, via Kfold cross-validation:\n",
    "def KFold_model_selection(X, Y, hyper_parameters_instances, num_folds, seed):\n",
    "    # Extract a test set:\n",
    "    X_train_val, X_test, Y_train_val, Y_test = ...\n",
    "    # Extract train and validation folds:\n",
    "    X_train_folds, X_val_folds, Y_train_folds, Y_val_folds = ...\n",
    "    # For each hyper-parameter instance, do KFold cross validation:\n",
    "    mean_val_MSEs = []\n",
    "    for hyper_parameters_instance in hyper_parameters_instances:\n",
    "        print(\"\\nNow preprocessing hyper-parameter instance\", hyper_parameters_instance)\n",
    "        mean_val_MSE = ...\n",
    "        print(\"Mean validation MSE:\", mean_val_MSE)\n",
    "        mean_val_MSEs.append(mean_val_MSE)\n",
    "    # The hyper-parameter instance with the smallest mean validation MSE is our model of choice:\n",
    "    best_instance_idx = ...\n",
    "    best_hyper_parameters_instance = hyper_parameters_instances[best_instance_idx]\n",
    "    print(\"\\n\\nBest hyper-parameter instance:\", best_hyper_parameters_instance)\n",
    "    # Train and evaluate the best instance on the whole dataset:\n",
    "    best_model_test_MSE = ...\n",
    "    print(\"Test MSE:\", best_model_test_MSE)"
   ]
  },
  {
   "cell_type": "code",
   "execution_count": null,
   "metadata": {},
   "outputs": [],
   "source": [
    "### KFold cross-validation of a Ridge model with given hyper-parameters:\n",
    "def perform_KFold_CV(X_train_folds, X_val_folds, Y_train_folds, Y_val_folds, degree, regularization):\n",
    "    val_fold_MSEs = []\n",
    "    # For each fold, assess a surrogate model with fixed hyper-parameters:\n",
    "    cmpt = 0\n",
    "    for X_train_fold, X_val_fold, Y_train_fold, Y_val_fold in zip(X_train_folds, X_val_folds, Y_train_folds, Y_val_folds):\n",
    "        val_fold_MSE = ...\n",
    "        cmpt += 1\n",
    "        print(\"Surrogate model\", str(cmpt) + \"/\" + str(len(X_val_folds)), \"validation MSE:\", val_fold_MSE)\n",
    "        val_fold_MSEs.append(val_fold_MSE)\n",
    "    # Compute the mean validation MSE between all the folds:\n",
    "    mean_val_MSE = ...\n",
    "    return mean_val_MSE"
   ]
  },
  {
   "cell_type": "code",
   "execution_count": null,
   "metadata": {},
   "outputs": [],
   "source": [
    "### Fit and evaluate a Ridge model with given hyper-parameters:\n",
    "def assess_Ridge(X_train, X_test, Y_train, Y_test, degree, regularization):\n",
    "    # Build the polynomial features:\n",
    "    poly_features = PolynomialFeatures(degree=degree)\n",
    "    X_train_poly = ...\n",
    "    X_test_poly = ...\n",
    "    # Fit the polynomial features with a Ridge model:\n",
    "    model = Ridge(alpha=regularization)\n",
    "    model.fit(X_train_poly, Y_train)\n",
    "    # Evaluate the Ridge model on the test set:\n",
    "    Y_test_pred = model.predict(X_test_poly)\n",
    "    test_MSE = ...\n",
    "    return test_MSE"
   ]
  },
  {
   "cell_type": "markdown",
   "metadata": {},
   "source": [
    "# Perform model selection of a Ridge model on a list of hyper-parameters instances with KFold cross-validation"
   ]
  },
  {
   "cell_type": "code",
   "execution_count": null,
   "metadata": {},
   "outputs": [],
   "source": [
    "### Model selection of a Ridge model on a list of hyper-parameters instances with KFold cross-validation:\n",
    "# Fix random seed for reproducibility:\n",
    "seed = 666\n",
    "# Create the list of hyper-parameters instances:\n",
    "hyper_parameters_instances = [{\"degree\": 1, \"regularization\": 0},\n",
    "                              {\"degree\": 2, \"regularization\": 0},\n",
    "                              {\"degree\": 3, \"regularization\": 0},\n",
    "                              {\"degree\": 1, \"regularization\": 0.001},\n",
    "                              {\"degree\": 2, \"regularization\": 0.001},\n",
    "                              {\"degree\": 3, \"regularization\": 0.001},\n",
    "                              {\"degree\": 1, \"regularization\": 0.01},\n",
    "                              {\"degree\": 2, \"regularization\": 0.01},\n",
    "                              {\"degree\": 3, \"regularization\": 0.01},\n",
    "                              {\"degree\": 1, \"regularization\": 0.1},\n",
    "                              {\"degree\": 2, \"regularization\": 0.1},\n",
    "                              {\"degree\": 3, \"regularization\": 0.1}]\n",
    "# Select model with KFold cross-validation:\n",
    "..."
   ]
  },
  {
   "cell_type": "code",
   "execution_count": null,
   "metadata": {},
   "outputs": [],
   "source": []
  }
 ],
 "metadata": {
  "kernelspec": {
   "display_name": "Python 2",
   "language": "python",
   "name": "python2"
  },
  "language_info": {
   "codemirror_mode": {
    "name": "ipython",
    "version": 2
   },
   "file_extension": ".py",
   "mimetype": "text/x-python",
   "name": "python",
   "nbconvert_exporter": "python",
   "pygments_lexer": "ipython2",
   "version": "2.7.15"
  }
 },
 "nbformat": 4,
 "nbformat_minor": 2
}
