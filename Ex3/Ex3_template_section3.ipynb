{
 "cells": [
  {
   "cell_type": "markdown",
   "metadata": {},
   "source": [
    "# Import packages"
   ]
  },
  {
   "cell_type": "code",
   "execution_count": null,
   "metadata": {},
   "outputs": [],
   "source": [
    "import pickle\n",
    "import numpy as np\n",
    "import matplotlib.pyplot as plt\n",
    "from matplotlib.colors import ListedColormap, Normalize\n",
    "import seaborn as sns\n",
    "from sklearn.datasets import make_classification\n",
    "from sklearn.neighbors import KNeighborsClassifier\n",
    "from sklearn.linear_model import LogisticRegression\n",
    "from sklearn.tree import DecisionTreeClassifier\n",
    "from sklearn.model_selection import train_test_split, KFold\n",
    "from sklearn.metrics import f1_score, accuracy_score, confusion_matrix"
   ]
  },
  {
   "cell_type": "markdown",
   "metadata": {},
   "source": [
    "# Question 1: Choosing the right metrics when dealing with unbalanced data"
   ]
  },
  {
   "cell_type": "code",
   "execution_count": null,
   "metadata": {},
   "outputs": [],
   "source": [
    "# Fix random seed for reproducibility:\n",
    "seed = 666\n",
    "# Set up seaborn (for heatmaps):\n",
    "sns.set()\n",
    "\n",
    "### Train and evaluate a K-NN with K=10 on randomly generated binary dataset, with different ratios between \n",
    "### the two classes. Use both accuracy and F1 score metrics, plus the confusion matrix:\n",
    "ratios = [0.6, 0.75, 0.9, 0.95, 0.98, 0.99]\n",
    "test_accuracies = []\n",
    "test_f1_scores = []\n",
    "test_confusion_matrices = []\n",
    "for ratio in ratios:\n",
    "    X, Y = make_classification(n_samples=10000, \n",
    "                               n_classes=2, \n",
    "                               n_features=2, \n",
    "                               n_redundant=0, \n",
    "                               n_repeated=0, \n",
    "                               weights=[ratio],\n",
    "                               flip_y=0, \n",
    "                               random_state=seed)\n",
    "    \n",
    "    ...\n",
    "\n",
    "for test_confusion_matrix, ratio, idx in zip(test_confusion_matrices, ratios, range(len(ratios))):\n",
    "    plt.figure(1, figsize=(15, 12))\n",
    "    plt.subplot(3, 3, idx+1)\n",
    "    plt.title(\"Confusion matrix, 1st class ratio = \" + str(ratio))\n",
    "    sns.heatmap(data=test_confusion_matrix.round(2), annot=True, fmt='d', cmap=sns.color_palette(\"RdBu_r\", 1000))\n",
    "plt.figure(1)\n",
    "plt.suptitle(\"Assessment of a K-NN model (K=10) on randomly generated binary datasets, with different ratios between the two classes\")\n",
    "plt.subplot(3, 3, 8)\n",
    "plt.title(\"Test accuracies + test F1-scores of minority class as functions of the 1st class ratio\")\n",
    "plt.plot(ratios, test_accuracies, c='g')\n",
    "plt.plot(ratios, test_f1_scores, c='r')\n",
    "plt.legend([\"Accuracy\", \"F1-score\"], loc='best')\n",
    "plt.xlabel('1st class ratio')\n",
    "plt.ylabel('Quality measures')\n",
    "plt.show()"
   ]
  },
  {
   "cell_type": "markdown",
   "metadata": {},
   "source": [
    "# Question 2: Model selection with Kfold cross-validation for classification on unbalanced data"
   ]
  },
  {
   "cell_type": "code",
   "execution_count": null,
   "metadata": {},
   "outputs": [],
   "source": [
    "### Split+shuffle X and Y into k=num_folds different folds:\n",
    "def KFold_split(X, Y, num_folds, seed):\n",
    "    ...\n",
    "\n",
    "### Select a model via Kfold cross-validation:\n",
    "def KFold_model_selection(X, Y, models, num_folds, seed):\n",
    "    ...\n",
    "\n",
    "### KFold cross-validation of a model:\n",
    "def perform_KFold_CV(X_train_folds, X_val_folds, Y_train_folds, Y_val_folds, model_idx):\n",
    "    ...\n",
    "\n",
    "### Fit and evaluate a model:\n",
    "def assess_model(X_train, X_test, Y_train, Y_test, model_idx):\n",
    "    ..."
   ]
  },
  {
   "cell_type": "code",
   "execution_count": null,
   "metadata": {},
   "outputs": [],
   "source": [
    "### Model selection of a classification model on unbalanced data with KFold cross-validation:\n",
    "# Load an unbalanced binary dataset:\n",
    "with open('custom_unbalanced_dataset.pickle', 'rb') as unbalanced_dataset:\n",
    "    X, Y = pickle.load(unbalanced_dataset)\n",
    "    # Models to be cross-validated:\n",
    "    models = {0: \"K-NN, K=20\",\n",
    "              1: \"Logistic regression\",\n",
    "              2: \"Decision Tree\"}\n",
    "    # Select model with KFold cross-validation (use 10 folds):\n",
    "    ..."
   ]
  },
  {
   "cell_type": "code",
   "execution_count": null,
   "metadata": {},
   "outputs": [],
   "source": []
  }
 ],
 "metadata": {
  "kernelspec": {
   "display_name": "Python 2",
   "language": "python",
   "name": "python2"
  },
  "language_info": {
   "codemirror_mode": {
    "name": "ipython",
    "version": 2
   },
   "file_extension": ".py",
   "mimetype": "text/x-python",
   "name": "python",
   "nbconvert_exporter": "python",
   "pygments_lexer": "ipython2",
   "version": "2.7.15"
  }
 },
 "nbformat": 4,
 "nbformat_minor": 2
}
