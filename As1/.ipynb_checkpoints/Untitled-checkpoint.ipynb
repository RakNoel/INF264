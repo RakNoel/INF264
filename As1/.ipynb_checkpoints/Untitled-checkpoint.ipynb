{
 "cells": [
  {
   "cell_type": "markdown",
   "metadata": {},
   "source": [
    "# Decition Tree part one, D3"
   ]
  },
  {
   "cell_type": "markdown",
   "metadata": {},
   "source": [
    "## First steps\n",
    "The first steps is to do all the imports and example data"
   ]
  },
  {
   "cell_type": "code",
   "execution_count": 7,
   "metadata": {},
   "outputs": [],
   "source": [
    "import numpy as np\n",
    "import pandas as pd\n",
    "import random as rnd"
   ]
  },
  {
   "cell_type": "markdown",
   "metadata": {},
   "source": [
    "## Math\n",
    "Using the D3 algorithm there is a lot of mathematical formulas we need. Theese includes entropy and information gain."
   ]
  },
  {
   "cell_type": "code",
   "execution_count": 72,
   "metadata": {},
   "outputs": [],
   "source": [
    "#Takes a list of probabilities and returns the entropy\n",
    "def entropy(xs):\n",
    "    return sum([-p*np.log2(p) for p in xs])\n",
    "\n",
    "#Takes a list of an attribute and returns its entropy\n",
    "def entropy_el(xs):\n",
    "    return entropy(probability_el(xs))\n",
    "\n",
    "def probability_el(xs):\n",
    "    return [x / sum(xs) for x in xs]"
   ]
  },
  {
   "cell_type": "code",
   "execution_count": 194,
   "metadata": {},
   "outputs": [],
   "source": [
    "#Takes a list of attributes, and counts them into dictionary\n",
    "def labels(xs):\n",
    "    lbs = {}\n",
    "    for x in xs:\n",
    "        if x in lbs:\n",
    "            lbs[x] += 1\n",
    "        else:\n",
    "            lbs[x] = 1\n",
    "    return lbs\n",
    "\n",
    "#Returns entropy of a list with lables\n",
    "def labels_entropy(xs):\n",
    "    return entropy_el(labels(np.asarray(xs)).values())\n",
    "\n",
    "#Takes two lists of lables and returns entropy\n",
    "def entropy_given(xs, ys):\n",
    "    labels_x = labels(xs)\n",
    "    probs_x = probability_el(labels_x.values())\n",
    "    total = 0\n",
    "    for lab, prob in zip(labels_x.keys(), probs_x):\n",
    "        total += prob * labels_entropy([y for x, y in zip(xs, ys) if x == lab])\n",
    "    return total\n",
    "\n",
    "def information_gain(xs, ys):\n",
    "    return labels_entropy(ys) - entropy_given(xs, ys)\n",
    "\n",
    "def information_gain_all(xs, ys):\n",
    "    columns = list(pd.DataFrame(xs))\n",
    "    res = {}\n",
    "    for p in columns:\n",
    "        res[p] = information_gain(ys, xs[p])\n",
    "    return res\n",
    "\n",
    "def best_question(xs, ys):\n",
    "    igs = information_gain_all(xs, ys)\n",
    "    return max(igs, key=igs.get)\n"
   ]
  },
  {
   "cell_type": "markdown",
   "metadata": {},
   "source": [
    "## Insert some test data"
   ]
  },
  {
   "cell_type": "code",
   "execution_count": 195,
   "metadata": {},
   "outputs": [
    {
     "name": "stdout",
     "output_type": "stream",
     "text": [
      "0.9402859586706311\n",
      "0.6935361388961918\n",
      "\n",
      "           0     1       2       3\n",
      "0      sunny   hot    high    weak\n",
      "1      sunny   hot    high  strong\n",
      "2   overcast   hot    high    weak\n",
      "3       rain  mild    high    weak\n",
      "4       rain  cool  normal    weak\n",
      "5       rain  cool  normal  strong\n",
      "6   overcast  cool  normal  strong\n",
      "7      sunny  mild    high    weak\n",
      "8      sunny  cool  normal    weak\n",
      "9       rain  mild  normal    weak\n",
      "10     sunny  mild  normal  strong\n",
      "11  overcast  mild    high  strong\n",
      "12  overcast   hot  normal    weak\n",
      "13      rain  mild    high  strong\n"
     ]
    },
    {
     "ename": "TypeError",
     "evalue": "'int' object is not subscriptable",
     "output_type": "error",
     "traceback": [
      "\u001b[0;31m---------------------------------------------------------------------------\u001b[0m",
      "\u001b[0;31mTypeError\u001b[0m                                 Traceback (most recent call last)",
      "\u001b[0;32m<ipython-input-195-1a0b14a466fd>\u001b[0m in \u001b[0;36m<module>\u001b[0;34m\u001b[0m\n\u001b[1;32m     34\u001b[0m \u001b[0;34m\u001b[0m\u001b[0m\n\u001b[1;32m     35\u001b[0m \u001b[0;34m\u001b[0m\u001b[0m\n\u001b[0;32m---> 36\u001b[0;31m \u001b[0mNode\u001b[0m\u001b[0;34m(\u001b[0m\u001b[0mX\u001b[0m\u001b[0;34m,\u001b[0m \u001b[0my\u001b[0m\u001b[0;34m,\u001b[0m \u001b[0;34m\"\"\u001b[0m\u001b[0;34m)\u001b[0m\u001b[0;34m\u001b[0m\u001b[0;34m\u001b[0m\u001b[0m\n\u001b[0m",
      "\u001b[0;32m<ipython-input-195-1a0b14a466fd>\u001b[0m in \u001b[0;36m__init__\u001b[0;34m(self, nX, ny, path)\u001b[0m\n\u001b[1;32m     20\u001b[0m         \u001b[0;32melse\u001b[0m\u001b[0;34m:\u001b[0m\u001b[0;34m\u001b[0m\u001b[0;34m\u001b[0m\u001b[0m\n\u001b[1;32m     21\u001b[0m             \u001b[0mself\u001b[0m\u001b[0;34m.\u001b[0m\u001b[0misLeaf\u001b[0m \u001b[0;34m=\u001b[0m \u001b[0;32mFalse\u001b[0m\u001b[0;34m\u001b[0m\u001b[0;34m\u001b[0m\u001b[0m\n\u001b[0;32m---> 22\u001b[0;31m             \u001b[0mNode\u001b[0m\u001b[0;34m.\u001b[0m\u001b[0mcreateChildren\u001b[0m\u001b[0;34m(\u001b[0m\u001b[0mself\u001b[0m\u001b[0;34m)\u001b[0m\u001b[0;34m\u001b[0m\u001b[0;34m\u001b[0m\u001b[0m\n\u001b[0m\u001b[1;32m     23\u001b[0m \u001b[0;34m\u001b[0m\u001b[0m\n\u001b[1;32m     24\u001b[0m     \u001b[0;32mdef\u001b[0m \u001b[0mcreateChildren\u001b[0m\u001b[0;34m(\u001b[0m\u001b[0mself\u001b[0m\u001b[0;34m)\u001b[0m\u001b[0;34m:\u001b[0m\u001b[0;34m\u001b[0m\u001b[0;34m\u001b[0m\u001b[0m\n",
      "\u001b[0;32m<ipython-input-195-1a0b14a466fd>\u001b[0m in \u001b[0;36mcreateChildren\u001b[0;34m(self)\u001b[0m\n\u001b[1;32m     26\u001b[0m         \u001b[0mi\u001b[0m \u001b[0;34m=\u001b[0m \u001b[0mself\u001b[0m\u001b[0;34m.\u001b[0m\u001b[0mquestion\u001b[0m\u001b[0;34m\u001b[0m\u001b[0;34m\u001b[0m\u001b[0m\n\u001b[1;32m     27\u001b[0m         \u001b[0;32mfor\u001b[0m \u001b[0mlbs\u001b[0m \u001b[0;32min\u001b[0m \u001b[0mnp\u001b[0m\u001b[0;34m.\u001b[0m\u001b[0munique\u001b[0m\u001b[0;34m(\u001b[0m\u001b[0mself\u001b[0m\u001b[0;34m.\u001b[0m\u001b[0mX\u001b[0m\u001b[0;34m[\u001b[0m\u001b[0mi\u001b[0m\u001b[0;34m]\u001b[0m\u001b[0;34m)\u001b[0m\u001b[0;34m:\u001b[0m\u001b[0;34m\u001b[0m\u001b[0;34m\u001b[0m\u001b[0m\n\u001b[0;32m---> 28\u001b[0;31m             \u001b[0mfilter_column\u001b[0m\u001b[0;34m(\u001b[0m\u001b[0mi\u001b[0m\u001b[0;34m,\u001b[0m \u001b[0mlbs\u001b[0m\u001b[0;34m,\u001b[0m \u001b[0mself\u001b[0m\u001b[0;34m.\u001b[0m\u001b[0mX\u001b[0m\u001b[0;34m,\u001b[0m \u001b[0mself\u001b[0m\u001b[0;34m.\u001b[0m\u001b[0my\u001b[0m\u001b[0;34m)\u001b[0m\u001b[0;34m\u001b[0m\u001b[0;34m\u001b[0m\u001b[0m\n\u001b[0m\u001b[1;32m     29\u001b[0m             \u001b[0;31m#n = Node()\u001b[0m\u001b[0;34m\u001b[0m\u001b[0;34m\u001b[0m\u001b[0;34m\u001b[0m\u001b[0m\n\u001b[1;32m     30\u001b[0m             \u001b[0;31m#self.child.append(n)\u001b[0m\u001b[0;34m\u001b[0m\u001b[0;34m\u001b[0m\u001b[0;34m\u001b[0m\u001b[0m\n",
      "\u001b[0;32m<ipython-input-194-ed02643dc1b6>\u001b[0m in \u001b[0;36mfilter_column\u001b[0;34m(c_indx, value, xs, ys)\u001b[0m\n\u001b[1;32m     40\u001b[0m     \u001b[0mprint\u001b[0m\u001b[0;34m(\u001b[0m\u001b[0mxs\u001b[0m\u001b[0;34m)\u001b[0m\u001b[0;34m\u001b[0m\u001b[0;34m\u001b[0m\u001b[0m\n\u001b[1;32m     41\u001b[0m     \u001b[0;32mfor\u001b[0m \u001b[0mx\u001b[0m\u001b[0;34m,\u001b[0m \u001b[0my\u001b[0m \u001b[0;32min\u001b[0m \u001b[0mzip\u001b[0m\u001b[0;34m(\u001b[0m\u001b[0mxs\u001b[0m\u001b[0;34m,\u001b[0m \u001b[0mys\u001b[0m\u001b[0;34m)\u001b[0m\u001b[0;34m:\u001b[0m\u001b[0;34m\u001b[0m\u001b[0;34m\u001b[0m\u001b[0m\n\u001b[0;32m---> 42\u001b[0;31m         \u001b[0;32mif\u001b[0m \u001b[0mx\u001b[0m\u001b[0;34m[\u001b[0m\u001b[0;36m0\u001b[0m\u001b[0;34m]\u001b[0m \u001b[0;34m==\u001b[0m \u001b[0mvalue\u001b[0m\u001b[0;34m:\u001b[0m\u001b[0;34m\u001b[0m\u001b[0;34m\u001b[0m\u001b[0m\n\u001b[0m\u001b[1;32m     43\u001b[0m            \u001b[0mrest\u001b[0m\u001b[0;34m.\u001b[0m\u001b[0mappend\u001b[0m\u001b[0;34m(\u001b[0m\u001b[0;34m(\u001b[0m\u001b[0mx\u001b[0m\u001b[0;34m,\u001b[0m \u001b[0my\u001b[0m\u001b[0;34m)\u001b[0m\u001b[0;34m)\u001b[0m\u001b[0;34m\u001b[0m\u001b[0;34m\u001b[0m\u001b[0m\n\u001b[1;32m     44\u001b[0m \u001b[0;34m\u001b[0m\u001b[0m\n",
      "\u001b[0;31mTypeError\u001b[0m: 'int' object is not subscriptable"
     ]
    }
   ],
   "source": [
    "data = pd.read_csv('tennis.data',header=None)\n",
    "X = data.iloc[:,:-1]\n",
    "y = data.iloc[:,-1]\n",
    "\n",
    "print(labels_entropy(y))\n",
    "print(entropy_given(X[0], y))\n",
    "\n",
    "print()\n",
    "    \n",
    "class Node:        \n",
    "    def __init__(self, nX, ny, path):\n",
    "        self.X = nX\n",
    "        self.y = ny\n",
    "        self.path = path\n",
    "        self.child = np.array([])\n",
    "        self.question = -1\n",
    "        \n",
    "        if labels_entropy(y) == 0:\n",
    "            self.isLeaf = True\n",
    "        else:\n",
    "            self.isLeaf = False\n",
    "            Node.createChildren(self)\n",
    "    \n",
    "    def createChildren(self):\n",
    "        self.question = best_question(self.X, self.y)\n",
    "        i = self.question\n",
    "        for lbs in np.unique(self.X[i]):\n",
    "            filter_column(i, lbs, self.X, self.y)\n",
    "            #n = Node()\n",
    "            #self.child.append(n)\n",
    "    \n",
    "    def getQuestion():\n",
    "        return self.question\n",
    "        \n",
    "        \n",
    "Node(X, y, \"\")"
   ]
  },
  {
   "cell_type": "markdown",
   "metadata": {},
   "source": [
    "## Import data"
   ]
  },
  {
   "cell_type": "code",
   "execution_count": 111,
   "metadata": {},
   "outputs": [],
   "source": [
    "data = pd.read_csv('abalone.data',header=None)\n",
    "X = data.iloc[:,:-1]\n",
    "y = data.iloc[:,-1]"
   ]
  },
  {
   "cell_type": "code",
   "execution_count": 112,
   "metadata": {
    "scrolled": true
   },
   "outputs": [
    {
     "name": "stdout",
     "output_type": "stream",
     "text": [
      "      0      1      2      3       4       5       6       7\n",
      "0     M  0.455  0.365  0.095  0.5140  0.2245  0.1010  0.1500\n",
      "1     M  0.350  0.265  0.090  0.2255  0.0995  0.0485  0.0700\n",
      "2     F  0.530  0.420  0.135  0.6770  0.2565  0.1415  0.2100\n",
      "3     M  0.440  0.365  0.125  0.5160  0.2155  0.1140  0.1550\n",
      "4     I  0.330  0.255  0.080  0.2050  0.0895  0.0395  0.0550\n",
      "...  ..    ...    ...    ...     ...     ...     ...     ...\n",
      "4172  F  0.565  0.450  0.165  0.8870  0.3700  0.2390  0.2490\n",
      "4173  M  0.590  0.440  0.135  0.9660  0.4390  0.2145  0.2605\n",
      "4174  M  0.600  0.475  0.205  1.1760  0.5255  0.2875  0.3080\n",
      "4175  F  0.625  0.485  0.150  1.0945  0.5310  0.2610  0.2960\n",
      "4176  M  0.710  0.555  0.195  1.9485  0.9455  0.3765  0.4950\n",
      "\n",
      "[4177 rows x 8 columns]\n",
      "0       15\n",
      "1        7\n",
      "2        9\n",
      "3       10\n",
      "4        7\n",
      "        ..\n",
      "4172    11\n",
      "4173    10\n",
      "4174     9\n",
      "4175    10\n",
      "4176    12\n",
      "Name: 8, Length: 4177, dtype: int64\n"
     ]
    }
   ],
   "source": [
    "print(X)\n",
    "print(y)"
   ]
  },
  {
   "cell_type": "code",
   "execution_count": null,
   "metadata": {},
   "outputs": [],
   "source": []
  }
 ],
 "metadata": {
  "kernelspec": {
   "display_name": "Python 3",
   "language": "python",
   "name": "python3"
  },
  "language_info": {
   "codemirror_mode": {
    "name": "ipython",
    "version": 3
   },
   "file_extension": ".py",
   "mimetype": "text/x-python",
   "name": "python",
   "nbconvert_exporter": "python",
   "pygments_lexer": "ipython3",
   "version": "3.7.4"
  }
 },
 "nbformat": 4,
 "nbformat_minor": 2
}
