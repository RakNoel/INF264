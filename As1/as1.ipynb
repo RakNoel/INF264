{
 "cells": [
  {
   "cell_type": "markdown",
   "metadata": {},
   "source": [
    "# Decition Tree part one, D3"
   ]
  },
  {
   "cell_type": "markdown",
   "metadata": {},
   "source": [
    "## First steps\n",
    "The first steps is to do all the imports and example data"
   ]
  },
  {
   "cell_type": "code",
   "execution_count": 72,
   "metadata": {},
   "outputs": [],
   "source": [
    "import numpy as np\n",
    "import pandas as pd\n",
    "import random as rnd"
   ]
  },
  {
   "cell_type": "markdown",
   "metadata": {},
   "source": [
    "## Math\n",
    "Using the D3 algorithm there is a lot of mathematical formulas we need. Theese includes entropy and information gain."
   ]
  },
  {
   "cell_type": "code",
   "execution_count": 5,
   "metadata": {},
   "outputs": [],
   "source": [
    "#Takes a list of probabilities and returns the entropy\n",
    "def entropy(xs):\n",
    "    return sum([-p*np.log2(p) for p in xs])\n",
    "\n",
    "#Takes a list of an attribute and returns its entropy\n",
    "def entropy_el(xs):\n",
    "    return entropy(probability_el(xs))\n",
    "\n",
    "def probability_el(xs):\n",
    "    return [x / sum(xs) for x in xs]"
   ]
  },
  {
   "cell_type": "code",
   "execution_count": 93,
   "metadata": {},
   "outputs": [],
   "source": [
    "#Takes a list of attributes, and counts them into dictionary\n",
    "def labels(xs):\n",
    "    lbs = {}\n",
    "    for x in xs:\n",
    "        if x in lbs:\n",
    "            lbs[x] += 1\n",
    "        else:\n",
    "            lbs[x] = 1\n",
    "    return lbs\n",
    "\n",
    "#Returns entropy of a list with lables\n",
    "def labels_entropy(xs):\n",
    "    return entropy_el(labels(np.asarray(xs)).values())\n",
    "\n",
    "#Takes two lists of lables and returns entropy\n",
    "def entropy_given(xs, ys):\n",
    "    labels_x = labels(xs)\n",
    "    probs_x = probability_el(labels_x.values())\n",
    "    total = 0\n",
    "    for lab, prob in zip(labels_x.keys(), probs_x):\n",
    "        total += prob * labels_entropy([y for x, y in zip(xs, ys) if x == lab])\n",
    "    return total\n",
    "\n",
    "def information_gain(xs, ys):\n",
    "    return labels_entropy(ys) - entropy_given(xs, ys)\n",
    "\n",
    "def information_gain_all(xs, ys):\n",
    "    columns = list(pd.DataFrame(xs))\n",
    "    res = {}\n",
    "    for p in columns:\n",
    "        res[p] = information_gain(ys, xs[p])\n",
    "    return res\n",
    "\n",
    "def best_question(xs, ys):\n",
    "    igs = information_gain_all(xs, ys)\n",
    "    return max(igs, key=igs.get)"
   ]
  },
  {
   "cell_type": "markdown",
   "metadata": {},
   "source": [
    "## Create the three objects"
   ]
  },
  {
   "cell_type": "code",
   "execution_count": 25,
   "metadata": {},
   "outputs": [],
   "source": [
    "class DecitionTree:\n",
    "    def __init__(self):\n",
    "        self.rootNode = \"\"\n",
    "        \n",
    "    def learn(self, X, y, impurity_measure):\n",
    "        assert(impurity_measure=='entropy')\n",
    "        self.rootNode = Node(X, y, \"root\")\n",
    "\n",
    "    def predict(self, X):\n",
    "        res = []\n",
    "        for index, rw in X.iterrows():\n",
    "            res.append(self.rootNode.search(rw))\n",
    "        df = pd.DataFrame()\n",
    "        df[\"result\"] = res\n",
    "        return df\n",
    "    \n",
    "\n",
    "class Node:        \n",
    "    def __init__(self, nX, ny, path):\n",
    "        self.X = nX.copy()\n",
    "        self.y = ny.copy()\n",
    "        self.path = path\n",
    "        self.result = \"\"\n",
    "        self.child = {}\n",
    "        self.question = -1\n",
    "        \n",
    "        if labels_entropy(self.y) == 0:\n",
    "            self.isLeaf = True\n",
    "            self.result = self.y.iloc[0]\n",
    "        else:\n",
    "            self.isLeaf = False\n",
    "            Node.createChildren(self)\n",
    "    \n",
    "    def createChildren(self):\n",
    "        self.question = best_question(self.X, self.y)\n",
    "        i = self.question\n",
    "        self.X['y'] = self.y\n",
    "        for lbs in np.unique(self.X[i]):\n",
    "            newTable = self.X.loc[self.X.loc[:,i] == lbs].drop(i, axis=1)\n",
    "            newX = newTable.iloc[:,:-1]\n",
    "            newY = newTable.iloc[:,-1]\n",
    "            print(\"creating node \" + str(lbs))\n",
    "            n = Node(newX, newY, lbs)\n",
    "            self.child[lbs] = n\n",
    "    \n",
    "    def search(self, rw):\n",
    "        if (self.isLeaf):\n",
    "            return self.result\n",
    "        else:\n",
    "            return self.child[rw[self.question]].search(rw)\n",
    "    \n",
    "    def toString(self):\n",
    "        mstr = \"\"\n",
    "        if self.isLeaf:\n",
    "            return \"(\" + self.path + \" - \" + self.result + \")\"\n",
    "        else:\n",
    "            mstr += str(self.path) + \" \" + str(self.question) + \": (\"\n",
    "            for c in self.child:\n",
    "                mstr += c.toString() + \" \"\n",
    "            mstr += \")\"\n",
    "            return mstr"
   ]
  },
  {
   "cell_type": "markdown",
   "metadata": {},
   "source": [
    "## Insert some test data"
   ]
  },
  {
   "cell_type": "code",
   "execution_count": 28,
   "metadata": {},
   "outputs": [
    {
     "name": "stdout",
     "output_type": "stream",
     "text": [
      "0.9402859586706311\n",
      "0.6935361388961918\n"
     ]
    }
   ],
   "source": [
    "data = pd.read_csv('tennis.data',header=None)\n",
    "X = data.iloc[:,:-1]\n",
    "y = data.iloc[:,-1]\n",
    "\n",
    "print(labels_entropy(y))\n",
    "print(entropy_given(X[0], y))"
   ]
  },
  {
   "cell_type": "code",
   "execution_count": 22,
   "metadata": {},
   "outputs": [
    {
     "name": "stdout",
     "output_type": "stream",
     "text": [
      "creating node overcast\n",
      "creating node rain\n",
      "creating node strong\n",
      "creating node weak\n",
      "creating node sunny\n",
      "creating node high\n",
      "creating node normal\n"
     ]
    },
    {
     "data": {
      "text/html": [
       "<div>\n",
       "<style scoped>\n",
       "    .dataframe tbody tr th:only-of-type {\n",
       "        vertical-align: middle;\n",
       "    }\n",
       "\n",
       "    .dataframe tbody tr th {\n",
       "        vertical-align: top;\n",
       "    }\n",
       "\n",
       "    .dataframe thead th {\n",
       "        text-align: right;\n",
       "    }\n",
       "</style>\n",
       "<table border=\"1\" class=\"dataframe\">\n",
       "  <thead>\n",
       "    <tr style=\"text-align: right;\">\n",
       "      <th></th>\n",
       "      <th>result</th>\n",
       "    </tr>\n",
       "  </thead>\n",
       "  <tbody>\n",
       "    <tr>\n",
       "      <td>0</td>\n",
       "      <td>no</td>\n",
       "    </tr>\n",
       "    <tr>\n",
       "      <td>1</td>\n",
       "      <td>no</td>\n",
       "    </tr>\n",
       "    <tr>\n",
       "      <td>2</td>\n",
       "      <td>yes</td>\n",
       "    </tr>\n",
       "    <tr>\n",
       "      <td>3</td>\n",
       "      <td>yes</td>\n",
       "    </tr>\n",
       "    <tr>\n",
       "      <td>4</td>\n",
       "      <td>yes</td>\n",
       "    </tr>\n",
       "    <tr>\n",
       "      <td>5</td>\n",
       "      <td>no</td>\n",
       "    </tr>\n",
       "    <tr>\n",
       "      <td>6</td>\n",
       "      <td>yes</td>\n",
       "    </tr>\n",
       "    <tr>\n",
       "      <td>7</td>\n",
       "      <td>no</td>\n",
       "    </tr>\n",
       "    <tr>\n",
       "      <td>8</td>\n",
       "      <td>yes</td>\n",
       "    </tr>\n",
       "    <tr>\n",
       "      <td>9</td>\n",
       "      <td>yes</td>\n",
       "    </tr>\n",
       "    <tr>\n",
       "      <td>10</td>\n",
       "      <td>yes</td>\n",
       "    </tr>\n",
       "    <tr>\n",
       "      <td>11</td>\n",
       "      <td>yes</td>\n",
       "    </tr>\n",
       "    <tr>\n",
       "      <td>12</td>\n",
       "      <td>yes</td>\n",
       "    </tr>\n",
       "    <tr>\n",
       "      <td>13</td>\n",
       "      <td>no</td>\n",
       "    </tr>\n",
       "  </tbody>\n",
       "</table>\n",
       "</div>"
      ],
      "text/plain": [
       "   result\n",
       "0      no\n",
       "1      no\n",
       "2     yes\n",
       "3     yes\n",
       "4     yes\n",
       "5      no\n",
       "6     yes\n",
       "7      no\n",
       "8     yes\n",
       "9     yes\n",
       "10    yes\n",
       "11    yes\n",
       "12    yes\n",
       "13     no"
      ]
     },
     "execution_count": 22,
     "metadata": {},
     "output_type": "execute_result"
    }
   ],
   "source": [
    "cf = DecitionTree()\n",
    "cf.learn(X, y, impurity_measure='entropy')\n",
    "\n",
    "cf.predict(X)"
   ]
  },
  {
   "cell_type": "markdown",
   "metadata": {},
   "source": [
    "## Import data"
   ]
  },
  {
   "cell_type": "code",
   "execution_count": 88,
   "metadata": {},
   "outputs": [],
   "source": [
    "data = pd.read_csv('abalone.data',header=None)\n",
    "X = data.iloc[:,:-1]\n",
    "y = data.iloc[:,-1]\n",
    "\n",
    "#cf = DecitionTree()\n",
    "#cf.learn(X, y, impurity_measure='entropy')\n",
    "\n",
    "#cf.predict(X)"
   ]
  },
  {
   "cell_type": "code",
   "execution_count": 112,
   "metadata": {
    "scrolled": true
   },
   "outputs": [
    {
     "name": "stdout",
     "output_type": "stream",
     "text": [
      "      0      1      2      3       4       5       6       7\n",
      "0     M  0.455  0.365  0.095  0.5140  0.2245  0.1010  0.1500\n",
      "1     M  0.350  0.265  0.090  0.2255  0.0995  0.0485  0.0700\n",
      "2     F  0.530  0.420  0.135  0.6770  0.2565  0.1415  0.2100\n",
      "3     M  0.440  0.365  0.125  0.5160  0.2155  0.1140  0.1550\n",
      "4     I  0.330  0.255  0.080  0.2050  0.0895  0.0395  0.0550\n",
      "...  ..    ...    ...    ...     ...     ...     ...     ...\n",
      "4172  F  0.565  0.450  0.165  0.8870  0.3700  0.2390  0.2490\n",
      "4173  M  0.590  0.440  0.135  0.9660  0.4390  0.2145  0.2605\n",
      "4174  M  0.600  0.475  0.205  1.1760  0.5255  0.2875  0.3080\n",
      "4175  F  0.625  0.485  0.150  1.0945  0.5310  0.2610  0.2960\n",
      "4176  M  0.710  0.555  0.195  1.9485  0.9455  0.3765  0.4950\n",
      "\n",
      "[4177 rows x 8 columns]\n",
      "0       15\n",
      "1        7\n",
      "2        9\n",
      "3       10\n",
      "4        7\n",
      "        ..\n",
      "4172    11\n",
      "4173    10\n",
      "4174     9\n",
      "4175    10\n",
      "4176    12\n",
      "Name: 8, Length: 4177, dtype: int64\n"
     ]
    }
   ],
   "source": [
    "print(X)\n",
    "print(y)"
   ]
  },
  {
   "cell_type": "code",
   "execution_count": null,
   "metadata": {},
   "outputs": [],
   "source": []
  }
 ],
 "metadata": {
  "kernelspec": {
   "display_name": "Python 3",
   "language": "python",
   "name": "python3"
  },
  "language_info": {
   "codemirror_mode": {
    "name": "ipython",
    "version": 3
   },
   "file_extension": ".py",
   "mimetype": "text/x-python",
   "name": "python",
   "nbconvert_exporter": "python",
   "pygments_lexer": "ipython3",
   "version": "3.7.4"
  }
 },
 "nbformat": 4,
 "nbformat_minor": 2
}
